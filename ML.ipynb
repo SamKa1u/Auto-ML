{
 "cells": [
  {
   "metadata": {
    "ExecuteTime": {
     "end_time": "2025-07-01T00:20:24.809558Z",
     "start_time": "2025-07-01T00:20:24.793422Z"
    }
   },
   "cell_type": "code",
   "source": [
    "import torch\n",
    "import pandas as pd\n",
    "import torch.nn as nn\n",
    "import torch.optim as optim\n",
    "from torch.utils.data import DataLoader, TensorDataset\n",
    "import seaborn as sns\n",
    "import matplotlib.pyplot as plt\n",
    "from sklearn import svm\n",
    "from sklearn.naive_bayes import GaussianNB\n",
    "from sklearn.pipeline import make_pipeline\n",
    "from sklearn.tree import DecisionTreeRegressor\n",
    "from sklearn.model_selection import train_test_split\n",
    "from sklearn.linear_model import LinearRegression, LogisticRegression\n",
    "from sklearn.preprocessing import StandardScaler, LabelEncoder\n",
    "from sklearn.metrics import accuracy_score, mean_squared_error, f1_score, mean_absolute_error, mean_squared_log_error, mean_absolute_percentage_error, r2_score,median_absolute_error, classification_report, confusion_matrix\n",
    "import numpy as np"
   ],
   "id": "f6bd6721337f3890",
   "outputs": [],
   "execution_count": 127
  },
  {
   "metadata": {
    "ExecuteTime": {
     "end_time": "2025-06-30T22:17:54.741732Z",
     "start_time": "2025-06-30T22:17:54.442987Z"
    }
   },
   "cell_type": "code",
   "source": [
    "df = pd.read_csv(\"sourceData.csv\")\n",
    "df.head()"
   ],
   "id": "807b7618602261a",
   "outputs": [
    {
     "data": {
      "text/plain": [
       "      price  area  bedrooms  bathrooms  stories mainroad guestroom basement  \\\n",
       "0  13300000  7420         4          2        3      yes        no       no   \n",
       "1  12250000  8960         4          4        4      yes        no       no   \n",
       "2  12250000  9960         3          2        2      yes        no      yes   \n",
       "3  12215000  7500         4          2        2      yes        no      yes   \n",
       "4  11410000  7420         4          1        2      yes       yes      yes   \n",
       "\n",
       "  hotwaterheating airconditioning  parking prefarea furnishingstatus  \n",
       "0              no             yes        2      yes        furnished  \n",
       "1              no             yes        3       no        furnished  \n",
       "2              no              no        2      yes   semi-furnished  \n",
       "3              no             yes        3      yes        furnished  \n",
       "4              no             yes        2       no        furnished  "
      ],
      "text/html": [
       "<div>\n",
       "<style scoped>\n",
       "    .dataframe tbody tr th:only-of-type {\n",
       "        vertical-align: middle;\n",
       "    }\n",
       "\n",
       "    .dataframe tbody tr th {\n",
       "        vertical-align: top;\n",
       "    }\n",
       "\n",
       "    .dataframe thead th {\n",
       "        text-align: right;\n",
       "    }\n",
       "</style>\n",
       "<table border=\"1\" class=\"dataframe\">\n",
       "  <thead>\n",
       "    <tr style=\"text-align: right;\">\n",
       "      <th></th>\n",
       "      <th>price</th>\n",
       "      <th>area</th>\n",
       "      <th>bedrooms</th>\n",
       "      <th>bathrooms</th>\n",
       "      <th>stories</th>\n",
       "      <th>mainroad</th>\n",
       "      <th>guestroom</th>\n",
       "      <th>basement</th>\n",
       "      <th>hotwaterheating</th>\n",
       "      <th>airconditioning</th>\n",
       "      <th>parking</th>\n",
       "      <th>prefarea</th>\n",
       "      <th>furnishingstatus</th>\n",
       "    </tr>\n",
       "  </thead>\n",
       "  <tbody>\n",
       "    <tr>\n",
       "      <th>0</th>\n",
       "      <td>13300000</td>\n",
       "      <td>7420</td>\n",
       "      <td>4</td>\n",
       "      <td>2</td>\n",
       "      <td>3</td>\n",
       "      <td>yes</td>\n",
       "      <td>no</td>\n",
       "      <td>no</td>\n",
       "      <td>no</td>\n",
       "      <td>yes</td>\n",
       "      <td>2</td>\n",
       "      <td>yes</td>\n",
       "      <td>furnished</td>\n",
       "    </tr>\n",
       "    <tr>\n",
       "      <th>1</th>\n",
       "      <td>12250000</td>\n",
       "      <td>8960</td>\n",
       "      <td>4</td>\n",
       "      <td>4</td>\n",
       "      <td>4</td>\n",
       "      <td>yes</td>\n",
       "      <td>no</td>\n",
       "      <td>no</td>\n",
       "      <td>no</td>\n",
       "      <td>yes</td>\n",
       "      <td>3</td>\n",
       "      <td>no</td>\n",
       "      <td>furnished</td>\n",
       "    </tr>\n",
       "    <tr>\n",
       "      <th>2</th>\n",
       "      <td>12250000</td>\n",
       "      <td>9960</td>\n",
       "      <td>3</td>\n",
       "      <td>2</td>\n",
       "      <td>2</td>\n",
       "      <td>yes</td>\n",
       "      <td>no</td>\n",
       "      <td>yes</td>\n",
       "      <td>no</td>\n",
       "      <td>no</td>\n",
       "      <td>2</td>\n",
       "      <td>yes</td>\n",
       "      <td>semi-furnished</td>\n",
       "    </tr>\n",
       "    <tr>\n",
       "      <th>3</th>\n",
       "      <td>12215000</td>\n",
       "      <td>7500</td>\n",
       "      <td>4</td>\n",
       "      <td>2</td>\n",
       "      <td>2</td>\n",
       "      <td>yes</td>\n",
       "      <td>no</td>\n",
       "      <td>yes</td>\n",
       "      <td>no</td>\n",
       "      <td>yes</td>\n",
       "      <td>3</td>\n",
       "      <td>yes</td>\n",
       "      <td>furnished</td>\n",
       "    </tr>\n",
       "    <tr>\n",
       "      <th>4</th>\n",
       "      <td>11410000</td>\n",
       "      <td>7420</td>\n",
       "      <td>4</td>\n",
       "      <td>1</td>\n",
       "      <td>2</td>\n",
       "      <td>yes</td>\n",
       "      <td>yes</td>\n",
       "      <td>yes</td>\n",
       "      <td>no</td>\n",
       "      <td>yes</td>\n",
       "      <td>2</td>\n",
       "      <td>no</td>\n",
       "      <td>furnished</td>\n",
       "    </tr>\n",
       "  </tbody>\n",
       "</table>\n",
       "</div>"
      ]
     },
     "execution_count": 14,
     "metadata": {},
     "output_type": "execute_result"
    }
   ],
   "execution_count": 14
  },
  {
   "cell_type": "code",
   "id": "initial_id",
   "metadata": {
    "collapsed": true,
    "ExecuteTime": {
     "end_time": "2025-07-01T00:25:14.966863Z",
     "start_time": "2025-07-01T00:25:14.952859Z"
    }
   },
   "source": [
    "# training variables\n",
    "target = df.columns[5]\n",
    "print(\"target:\",target)\n",
    "# number epochs\n",
    "epchs = 10 #int(input(\"enter number of epochs: \"))\n",
    "\n",
    "#\n",
    "y = df[target]\n",
    "X_df = df.drop(columns=[target])\n",
    "# select columns NOT to be used for Feature Extraction\n",
    "# features = X_df.columns[]\n",
    "X = X_df #.drop(columns=features)\n",
    "print(\"Features from:\")\n",
    "X.head()\n"
   ],
   "outputs": [
    {
     "name": "stdout",
     "output_type": "stream",
     "text": [
      "target: mainroad\n",
      "Features from:\n"
     ]
    },
    {
     "data": {
      "text/plain": [
       "      price  area  bedrooms  bathrooms  stories guestroom basement  \\\n",
       "0  13300000  7420         4          2        3        no       no   \n",
       "1  12250000  8960         4          4        4        no       no   \n",
       "2  12250000  9960         3          2        2        no      yes   \n",
       "3  12215000  7500         4          2        2        no      yes   \n",
       "4  11410000  7420         4          1        2       yes      yes   \n",
       "\n",
       "  hotwaterheating airconditioning  parking prefarea furnishingstatus  \n",
       "0              no             yes        2      yes        furnished  \n",
       "1              no             yes        3       no        furnished  \n",
       "2              no              no        2      yes   semi-furnished  \n",
       "3              no             yes        3      yes        furnished  \n",
       "4              no             yes        2       no        furnished  "
      ],
      "text/html": [
       "<div>\n",
       "<style scoped>\n",
       "    .dataframe tbody tr th:only-of-type {\n",
       "        vertical-align: middle;\n",
       "    }\n",
       "\n",
       "    .dataframe tbody tr th {\n",
       "        vertical-align: top;\n",
       "    }\n",
       "\n",
       "    .dataframe thead th {\n",
       "        text-align: right;\n",
       "    }\n",
       "</style>\n",
       "<table border=\"1\" class=\"dataframe\">\n",
       "  <thead>\n",
       "    <tr style=\"text-align: right;\">\n",
       "      <th></th>\n",
       "      <th>price</th>\n",
       "      <th>area</th>\n",
       "      <th>bedrooms</th>\n",
       "      <th>bathrooms</th>\n",
       "      <th>stories</th>\n",
       "      <th>guestroom</th>\n",
       "      <th>basement</th>\n",
       "      <th>hotwaterheating</th>\n",
       "      <th>airconditioning</th>\n",
       "      <th>parking</th>\n",
       "      <th>prefarea</th>\n",
       "      <th>furnishingstatus</th>\n",
       "    </tr>\n",
       "  </thead>\n",
       "  <tbody>\n",
       "    <tr>\n",
       "      <th>0</th>\n",
       "      <td>13300000</td>\n",
       "      <td>7420</td>\n",
       "      <td>4</td>\n",
       "      <td>2</td>\n",
       "      <td>3</td>\n",
       "      <td>no</td>\n",
       "      <td>no</td>\n",
       "      <td>no</td>\n",
       "      <td>yes</td>\n",
       "      <td>2</td>\n",
       "      <td>yes</td>\n",
       "      <td>furnished</td>\n",
       "    </tr>\n",
       "    <tr>\n",
       "      <th>1</th>\n",
       "      <td>12250000</td>\n",
       "      <td>8960</td>\n",
       "      <td>4</td>\n",
       "      <td>4</td>\n",
       "      <td>4</td>\n",
       "      <td>no</td>\n",
       "      <td>no</td>\n",
       "      <td>no</td>\n",
       "      <td>yes</td>\n",
       "      <td>3</td>\n",
       "      <td>no</td>\n",
       "      <td>furnished</td>\n",
       "    </tr>\n",
       "    <tr>\n",
       "      <th>2</th>\n",
       "      <td>12250000</td>\n",
       "      <td>9960</td>\n",
       "      <td>3</td>\n",
       "      <td>2</td>\n",
       "      <td>2</td>\n",
       "      <td>no</td>\n",
       "      <td>yes</td>\n",
       "      <td>no</td>\n",
       "      <td>no</td>\n",
       "      <td>2</td>\n",
       "      <td>yes</td>\n",
       "      <td>semi-furnished</td>\n",
       "    </tr>\n",
       "    <tr>\n",
       "      <th>3</th>\n",
       "      <td>12215000</td>\n",
       "      <td>7500</td>\n",
       "      <td>4</td>\n",
       "      <td>2</td>\n",
       "      <td>2</td>\n",
       "      <td>no</td>\n",
       "      <td>yes</td>\n",
       "      <td>no</td>\n",
       "      <td>yes</td>\n",
       "      <td>3</td>\n",
       "      <td>yes</td>\n",
       "      <td>furnished</td>\n",
       "    </tr>\n",
       "    <tr>\n",
       "      <th>4</th>\n",
       "      <td>11410000</td>\n",
       "      <td>7420</td>\n",
       "      <td>4</td>\n",
       "      <td>1</td>\n",
       "      <td>2</td>\n",
       "      <td>yes</td>\n",
       "      <td>yes</td>\n",
       "      <td>no</td>\n",
       "      <td>yes</td>\n",
       "      <td>2</td>\n",
       "      <td>no</td>\n",
       "      <td>furnished</td>\n",
       "    </tr>\n",
       "  </tbody>\n",
       "</table>\n",
       "</div>"
      ]
     },
     "execution_count": 131,
     "metadata": {},
     "output_type": "execute_result"
    }
   ],
   "execution_count": 131
  },
  {
   "metadata": {
    "ExecuteTime": {
     "end_time": "2025-06-30T23:39:23.074695Z",
     "start_time": "2025-06-30T23:39:23.065982Z"
    }
   },
   "cell_type": "code",
   "source": [
    "# determine task type\n",
    "is_classification = False if y.dtypes != \"object\" else True\n",
    "print(\"class:\",is_classification,\"\\n\",\"type:\",y.dtypes)\n",
    "\n",
    "# handle taret encoding if classification\n",
    "if is_classification:\n",
    "    y = LabelEncoder().fit_transform(y)\n",
    "    y = torch.tensor(y, dtype=torch.long)\n",
    "    criterion = nn.CrossEntropyLoss()\n",
    "    metric_name = \"Accuracy\"\n",
    "else:\n",
    "    y = torch.tensor(y.values, dtype=torch.float32)\n",
    "    criterion = nn.MSELoss()\n",
    "    metric_name = \"MSE\""
   ],
   "id": "d091ab5f3ff92552",
   "outputs": [
    {
     "name": "stdout",
     "output_type": "stream",
     "text": [
      "class: True \n",
      " type: object\n"
     ]
    }
   ],
   "execution_count": 79
  },
  {
   "metadata": {
    "ExecuteTime": {
     "end_time": "2025-06-30T23:39:26.686404Z",
     "start_time": "2025-06-30T23:39:26.656581Z"
    }
   },
   "cell_type": "code",
   "source": [
    "# encode and scale features\n",
    "X = pd.get_dummies(X, drop_first = True)\n",
    "X = StandardScaler().fit_transform(X)\n",
    "X = torch.tensor(X, dtype=torch.float32)\n",
    "\n",
    "# split data\n",
    "X_train, X_test, y_train, y_test = train_test_split(X, y, test_size=0.2, random_state=42)\n",
    "\n",
    "# dataloader\n",
    "train_set = TensorDataset(X_train, y_train)\n",
    "train_loader = DataLoader(train_set, batch_size=32, shuffle=True)"
   ],
   "id": "ef5f4a6a0ebd2776",
   "outputs": [],
   "execution_count": 80
  },
  {
   "metadata": {
    "ExecuteTime": {
     "end_time": "2025-06-30T23:55:51.866199Z",
     "start_time": "2025-06-30T23:55:51.857090Z"
    }
   },
   "cell_type": "code",
   "source": [
    "# define custom model\n",
    "class CustomModelA(nn.Module):\n",
    "    def __init__(self):\n",
    "        super().__init__()\n",
    "        self.net = nn.Sequential(\n",
    "            nn.Linear(X_train.shape[1], 64),\n",
    "            nn.ReLU(),\n",
    "            nn.Linear(64, 32),\n",
    "            nn.ReLU(),\n",
    "            nn.Linear(32, len(torch.unique(y_train)) if is_classification else 1)\n",
    "        )\n",
    "\n",
    "    def forward(self, x):\n",
    "        return self.net(x)\n",
    "\n",
    "def model_training(models, X_train, X_test, y_train, y_test,clas):\n",
    "    preds = []\n",
    "    R2s= []\n",
    "    MAEs= []\n",
    "    MSLEs= []\n",
    "    MAPEs = []\n",
    "    MAbEs = []\n",
    "    ClsReps = []\n",
    "    CnfMtxs = []\n",
    "    for model_name, model in models.items():\n",
    "        X_test_t = X_test.to(device)\n",
    "        # train\n",
    "        model.fit(X_train, y_train)\n",
    "        # predict\n",
    "        pred = model.predict(X_test_t)\n",
    "        preds.append(pred)\n",
    "        # evaluate\n",
    "        if not clas:\n",
    "            r2 = r2_score(y_test, pred)\n",
    "            R2s.append(r2)\n",
    "\n",
    "            mae = mean_absolute_error(y_test, pred)\n",
    "            MAEs.append(mae)\n",
    "\n",
    "            msle = mean_squared_log_error(y_test, pred)\n",
    "            MSLEs.append(msle)\n",
    "\n",
    "            mape = mean_absolute_percentage_error(y_test, pred)\n",
    "            MAPEs.append(mape)\n",
    "\n",
    "            mabe = median_absolute_error(y_test, pred)\n",
    "            MAbEs.append(mabe)\n",
    "        else:\n",
    "            cls_rep = classification_report(y_test, pred)\n",
    "\n",
    "            ClsReps.append(cls_rep)\n",
    "\n",
    "            con_mat = confusion_matrix(y_test, pred)\n",
    "            CnfMtxs.append(con_mat)\n",
    "\n",
    "    return preds, R2s, MAEs, MSLEs, MAPEs, MAbEs, ClsReps, CnfMtxs\n",
    "\n",
    "device = torch.device(\"cuda\" if torch.cuda.is_available() else \"cpu\")\n",
    "results = []"
   ],
   "id": "7737c060a89a235c",
   "outputs": [],
   "execution_count": 101
  },
  {
   "metadata": {
    "ExecuteTime": {
     "end_time": "2025-06-30T23:39:31.605489Z",
     "start_time": "2025-06-30T23:39:31.583022Z"
    }
   },
   "cell_type": "code",
   "source": [
    "# define scklearn models\n",
    "svc = make_pipeline(StandardScaler(), svm.SVC(gamma=\"auto\",kernel=\"rbf\"))\n",
    "reg_models = {\n",
    "    \"Linear Regression\": LinearRegression(),\n",
    "    \"Support Vector Regression\": svm.SVR(),\n",
    "    \"Decision Tree Regressor\": DecisionTreeRegressor(max_depth=12),\n",
    "}\n",
    "clas_models = {\n",
    "    \"Logistic Regression\": LogisticRegression(),\n",
    "    \"Support Vector Classifier\": svc,\n",
    "    \"Naive Bayes\": GaussianNB(),\n",
    "}\n",
    "example_models = clas_models if is_classification else reg_models\n",
    "\n",
    "# compare custom models\n",
    "custom_models = {\n",
    "    \"Model A\": CustomModelA(),\n",
    "}\n",
    "\n",
    "# experiment setup info\n",
    "setup_info = {\n",
    "    \"Target Variable\": target,\n",
    "    \"Task Type\": \"Classification\" if is_classification else \"Regression\",\n",
    "    \"Feature Processing\": \"StandardScaler + One-Hot Encoding\",\n",
    "    \"Validation Split\": \"80-20\",\n",
    "    \"Batch Size\": 32,\n",
    "    \"Epochs\": epchs,\n",
    "    \"Optimizer\": \"Adam\",\n",
    "    \"Loss Function\": criterion.__class__.__name__,\n",
    "}\n",
    "print(\"The Experiment Settings\")\n",
    "pd.DataFrame([setup_info])"
   ],
   "id": "df9540333e2189c",
   "outputs": [
    {
     "name": "stdout",
     "output_type": "stream",
     "text": [
      "The Experiment Settings\n"
     ]
    },
    {
     "data": {
      "text/plain": [
       "  Target Variable       Task Type                 Feature Processing  \\\n",
       "0        mainroad  Classification  StandardScaler + One-Hot Encoding   \n",
       "\n",
       "  Validation Split  Batch Size  Epochs Optimizer     Loss Function  \n",
       "0            80-20          32      10      Adam  CrossEntropyLoss  "
      ],
      "text/html": [
       "<div>\n",
       "<style scoped>\n",
       "    .dataframe tbody tr th:only-of-type {\n",
       "        vertical-align: middle;\n",
       "    }\n",
       "\n",
       "    .dataframe tbody tr th {\n",
       "        vertical-align: top;\n",
       "    }\n",
       "\n",
       "    .dataframe thead th {\n",
       "        text-align: right;\n",
       "    }\n",
       "</style>\n",
       "<table border=\"1\" class=\"dataframe\">\n",
       "  <thead>\n",
       "    <tr style=\"text-align: right;\">\n",
       "      <th></th>\n",
       "      <th>Target Variable</th>\n",
       "      <th>Task Type</th>\n",
       "      <th>Feature Processing</th>\n",
       "      <th>Validation Split</th>\n",
       "      <th>Batch Size</th>\n",
       "      <th>Epochs</th>\n",
       "      <th>Optimizer</th>\n",
       "      <th>Loss Function</th>\n",
       "    </tr>\n",
       "  </thead>\n",
       "  <tbody>\n",
       "    <tr>\n",
       "      <th>0</th>\n",
       "      <td>mainroad</td>\n",
       "      <td>Classification</td>\n",
       "      <td>StandardScaler + One-Hot Encoding</td>\n",
       "      <td>80-20</td>\n",
       "      <td>32</td>\n",
       "      <td>10</td>\n",
       "      <td>Adam</td>\n",
       "      <td>CrossEntropyLoss</td>\n",
       "    </tr>\n",
       "  </tbody>\n",
       "</table>\n",
       "</div>"
      ]
     },
     "execution_count": 82,
     "metadata": {},
     "output_type": "execute_result"
    }
   ],
   "execution_count": 82
  },
  {
   "metadata": {
    "ExecuteTime": {
     "end_time": "2025-06-30T23:55:58.531495Z",
     "start_time": "2025-06-30T23:55:58.482242Z"
    }
   },
   "cell_type": "code",
   "source": [
    "# sklearn training and evaluatiom\n",
    "preds, R2s, MAEs, MSLEs, MAbPEs, MAbEs, ClsReps, CnfMtxs = model_training(example_models, X_train, X_test, y_train, y_test, is_classification)\n",
    "\n",
    "i = 0\n",
    "for model_name, models in example_models.items():\n",
    "    if not is_classification:\n",
    "        results.append({\n",
    "            \"Model\": model_name,\n",
    "            \"R2 Score\": R2s[i],\n",
    "            \"Mean absolute error\": MAEs[i],\n",
    "            \"Mean squared Log error\": MSLEs[i],\n",
    "            \"Mean absolute percentage error\": MAbPEs[i],\n",
    "            \"Median absolute error\": MAbEs[i],\n",
    "        })\n",
    "    else:\n",
    "        results.append({\n",
    "            \"Model\": model_name,\n",
    "            \"ClsReps\": ClsReps[i],\n",
    "            \"CnfMtxs\": CnfMtxs[i],\n",
    "        })\n",
    "    i +=1"
   ],
   "id": "22f79b4c1619bc8",
   "outputs": [
    {
     "name": "stdout",
     "output_type": "stream",
     "text": [
      "['              precision    recall  f1-score   support\\n\\n           0       0.40      0.27      0.32        15\\n           1       0.89      0.94      0.91        94\\n\\n    accuracy                           0.84       109\\n   macro avg       0.64      0.60      0.62       109\\nweighted avg       0.82      0.84      0.83       109\\n', '              precision    recall  f1-score   support\\n\\n           0       0.00      0.00      0.00        15\\n           1       0.86      1.00      0.93        94\\n\\n    accuracy                           0.86       109\\n   macro avg       0.43      0.50      0.46       109\\nweighted avg       0.74      0.86      0.80       109\\n', '              precision    recall  f1-score   support\\n\\n           0       0.21      0.87      0.34        15\\n           1       0.96      0.48      0.64        94\\n\\n    accuracy                           0.53       109\\n   macro avg       0.58      0.67      0.49       109\\nweighted avg       0.85      0.53      0.60       109\\n']\n"
     ]
    },
    {
     "name": "stderr",
     "output_type": "stream",
     "text": [
      "D:\\Users\\Sam\\Projects\\AutoML\\.venv\\Lib\\site-packages\\sklearn\\metrics\\_classification.py:1509: UndefinedMetricWarning: Precision is ill-defined and being set to 0.0 in labels with no predicted samples. Use `zero_division` parameter to control this behavior.\n",
      "  _warn_prf(average, modifier, f\"{metric.capitalize()} is\", len(result))\n",
      "D:\\Users\\Sam\\Projects\\AutoML\\.venv\\Lib\\site-packages\\sklearn\\metrics\\_classification.py:1509: UndefinedMetricWarning: Precision is ill-defined and being set to 0.0 in labels with no predicted samples. Use `zero_division` parameter to control this behavior.\n",
      "  _warn_prf(average, modifier, f\"{metric.capitalize()} is\", len(result))\n",
      "D:\\Users\\Sam\\Projects\\AutoML\\.venv\\Lib\\site-packages\\sklearn\\metrics\\_classification.py:1509: UndefinedMetricWarning: Precision is ill-defined and being set to 0.0 in labels with no predicted samples. Use `zero_division` parameter to control this behavior.\n",
      "  _warn_prf(average, modifier, f\"{metric.capitalize()} is\", len(result))\n"
     ]
    }
   ],
   "execution_count": 102
  },
  {
   "metadata": {
    "ExecuteTime": {
     "end_time": "2025-07-01T00:30:55.585789Z",
     "start_time": "2025-07-01T00:30:55.301550Z"
    }
   },
   "cell_type": "code",
   "source": [
    "# custom model training and evaluation\n",
    "for model_name, model in custom_models.items():\n",
    "    model.to(device)\n",
    "    optimizer = optim.Adam(model.parameters(), lr=0.01)\n",
    "\n",
    "    # training loop\n",
    "    model.train()\n",
    "    for epoch in range(setup_info[\"Epochs\"]):\n",
    "        for inputs, labels in train_loader:\n",
    "            inputs, labels = inputs.to(device), labels.to(device)\n",
    "            optimizer.zero_grad()\n",
    "            outputs = model(inputs)\n",
    "            loss = criterion(outputs, labels)\n",
    "            loss.backward()\n",
    "            optimizer.step()\n",
    "\n",
    "    # evaluation\n",
    "    model.eval()\n",
    "    with torch.no_grad():\n",
    "        X_test_t = X_test.to(device)\n",
    "        y_pred = model(X_test_t)\n",
    "        if is_classification:\n",
    "            y_pred = torch.argmax(y_pred, dim=1).cpu().numpy()\n",
    "            ClsReps = classification_report(y_test, y_pred)\n",
    "            CnfMtxs = confusion_matrix(y_test, y_pred)\n",
    "            results.append({\n",
    "                \"Model\": model_name,\n",
    "                \"ClsReps\": ClsReps,\n",
    "                \"CnfMtxs\": CnfMtxs,\n",
    "            })\n",
    "        else:\n",
    "            y_pred = y_pred.flatten().cpu().numpy()\n",
    "\n",
    "            r2 = r2_score(y_test, y_pred)\n",
    "            mae = mean_absolute_error(y_test, y_pred)\n",
    "            msle = mean_squared_log_error(y_test, y_pred)\n",
    "            mape = mean_absolute_percentage_error(y_test, y_pred)\n",
    "            mabe = median_absolute_error(y_test, y_pred)\n",
    "\n",
    "            results.append({\n",
    "                \"Model\": model_name,\n",
    "                \"R2 Score\": r2,\n",
    "                \"Mean absolute error\": mae,\n",
    "                \"Mean squared Log error\": msle,\n",
    "                \"Mean absolute percentage error\": mape,\n",
    "                \"Median absolute error\": mabe,\n",
    "            })"
   ],
   "id": "6a1373f2d379e56b",
   "outputs": [],
   "execution_count": 134
  },
  {
   "metadata": {
    "ExecuteTime": {
     "end_time": "2025-06-30T23:51:55.533109Z",
     "start_time": "2025-06-30T23:51:55.510508Z"
    }
   },
   "cell_type": "code",
   "source": [
    "# Display comparison\n",
    "print(\"This is the ML Model Comparison\")\n",
    "results_df = pd.DataFrame(results)\n",
    "results_df"
   ],
   "id": "8ece9461f860475e",
   "outputs": [
    {
     "name": "stdout",
     "output_type": "stream",
     "text": [
      "This is the ML Model Comparison\n"
     ]
    },
    {
     "data": {
      "text/plain": [
       "                       Model  \\\n",
       "0        Logistic Regression   \n",
       "1  Support Vector Classifier   \n",
       "2                Naive Bayes   \n",
       "3                    Model A   \n",
       "\n",
       "                                             ClsReps              CnfMtxs  \\\n",
       "0                precision    recall  f1-score   ...   [[4, 11], [6, 88]]   \n",
       "1                precision    recall  f1-score   ...   [[0, 15], [0, 94]]   \n",
       "2                precision    recall  f1-score   ...  [[13, 2], [49, 45]]   \n",
       "3                                                NaN                  NaN   \n",
       "\n",
       "   Accuracy  F1 Score  \n",
       "0       NaN       NaN  \n",
       "1       NaN       NaN  \n",
       "2       NaN       NaN  \n",
       "3   0.87156  0.842693  "
      ],
      "text/html": [
       "<div>\n",
       "<style scoped>\n",
       "    .dataframe tbody tr th:only-of-type {\n",
       "        vertical-align: middle;\n",
       "    }\n",
       "\n",
       "    .dataframe tbody tr th {\n",
       "        vertical-align: top;\n",
       "    }\n",
       "\n",
       "    .dataframe thead th {\n",
       "        text-align: right;\n",
       "    }\n",
       "</style>\n",
       "<table border=\"1\" class=\"dataframe\">\n",
       "  <thead>\n",
       "    <tr style=\"text-align: right;\">\n",
       "      <th></th>\n",
       "      <th>Model</th>\n",
       "      <th>ClsReps</th>\n",
       "      <th>CnfMtxs</th>\n",
       "      <th>Accuracy</th>\n",
       "      <th>F1 Score</th>\n",
       "    </tr>\n",
       "  </thead>\n",
       "  <tbody>\n",
       "    <tr>\n",
       "      <th>0</th>\n",
       "      <td>Logistic Regression</td>\n",
       "      <td>precision    recall  f1-score   ...</td>\n",
       "      <td>[[4, 11], [6, 88]]</td>\n",
       "      <td>NaN</td>\n",
       "      <td>NaN</td>\n",
       "    </tr>\n",
       "    <tr>\n",
       "      <th>1</th>\n",
       "      <td>Support Vector Classifier</td>\n",
       "      <td>precision    recall  f1-score   ...</td>\n",
       "      <td>[[0, 15], [0, 94]]</td>\n",
       "      <td>NaN</td>\n",
       "      <td>NaN</td>\n",
       "    </tr>\n",
       "    <tr>\n",
       "      <th>2</th>\n",
       "      <td>Naive Bayes</td>\n",
       "      <td>precision    recall  f1-score   ...</td>\n",
       "      <td>[[13, 2], [49, 45]]</td>\n",
       "      <td>NaN</td>\n",
       "      <td>NaN</td>\n",
       "    </tr>\n",
       "    <tr>\n",
       "      <th>3</th>\n",
       "      <td>Model A</td>\n",
       "      <td>NaN</td>\n",
       "      <td>NaN</td>\n",
       "      <td>0.87156</td>\n",
       "      <td>0.842693</td>\n",
       "    </tr>\n",
       "  </tbody>\n",
       "</table>\n",
       "</div>"
      ]
     },
     "execution_count": 94,
     "metadata": {},
     "output_type": "execute_result"
    }
   ],
   "execution_count": 94
  },
  {
   "metadata": {
    "ExecuteTime": {
     "end_time": "2025-07-01T00:34:51.048877Z",
     "start_time": "2025-07-01T00:34:50.456745Z"
    }
   },
   "cell_type": "code",
   "source": [
    "# Display comparison\n",
    "print(\"This is the ML Model Comparison\")\n",
    "results_df = pd.DataFrame(results)\n",
    "\n",
    "if is_classification:\n",
    "    for result in results:\n",
    "        print(\"     Model: \", result[\"Model\"])\n",
    "        print(\"         Classification Report:\")\n",
    "        ClsReps = result[\"ClsReps\"]\n",
    "        print(ClsReps)\n",
    "        print(\"         Confusion Matrix:\")\n",
    "        CnfMtxs = result[\"CnfMtxs\"]\n",
    "        labels = ['Class 0', 'Class 1']\n",
    "        conf_matrix_df = pd.DataFrame(CnfMtxs, index=labels, columns=labels)\n",
    "        conf_matrix_df.index.name = 'Actual'\n",
    "        conf_matrix_df.columns.name = 'Predicted'\n",
    "\n",
    "        plt.figure(figsize=(6, 5))\n",
    "        sns.heatmap(conf_matrix_df, annot=True, fmt='d', cmap='Blues')\n",
    "        plt.title('Confusion Matrix')\n",
    "        plt.show()  #fig = ---> st.pyplot(fig)\n",
    "        print(\"\\n\\n\")\n",
    "\n",
    "else:\n",
    "    results_df"
   ],
   "id": "73fe731661e02d79",
   "outputs": [
    {
     "name": "stdout",
     "output_type": "stream",
     "text": [
      "This is the ML Model Comparison\n",
      "     Model:  Logistic Regression\n",
      "         Classification Report:\n",
      "              precision    recall  f1-score   support\n",
      "\n",
      "           0       0.40      0.27      0.32        15\n",
      "           1       0.89      0.94      0.91        94\n",
      "\n",
      "    accuracy                           0.84       109\n",
      "   macro avg       0.64      0.60      0.62       109\n",
      "weighted avg       0.82      0.84      0.83       109\n",
      "\n",
      "         Confusion Matrix:\n"
     ]
    },
    {
     "data": {
      "text/plain": [
       "<Figure size 600x500 with 2 Axes>"
      ],
      "image/png": "[encoded data removed]"
     },
     "metadata": {},
     "output_type": "display_data"
    },
    {
     "name": "stdout",
     "output_type": "stream",
     "text": [
      "\n",
      "\n",
      "\n",
      "     Model:  Support Vector Classifier\n",
      "         Classification Report:\n",
      "              precision    recall  f1-score   support\n",
      "\n",
      "           0       0.00      0.00      0.00        15\n",
      "           1       0.86      1.00      0.93        94\n",
      "\n",
      "    accuracy                           0.86       109\n",
      "   macro avg       0.43      0.50      0.46       109\n",
      "weighted avg       0.74      0.86      0.80       109\n",
      "\n",
      "         Confusion Matrix:\n"
     ]
    },
    {
     "data": {
      "text/plain": [
       "<Figure size 600x500 with 2 Axes>"
      ],
      "image/png": "[encoded data removed]"
     },
     "metadata": {},
     "output_type": "display_data"
    },
    {
     "name": "stdout",
     "output_type": "stream",
     "text": [
      "\n",
      "\n",
      "\n",
      "     Model:  Naive Bayes\n",
      "         Classification Report:\n",
      "              precision    recall  f1-score   support\n",
      "\n",
      "           0       0.21      0.87      0.34        15\n",
      "           1       0.96      0.48      0.64        94\n",
      "\n",
      "    accuracy                           0.53       109\n",
      "   macro avg       0.58      0.67      0.49       109\n",
      "weighted avg       0.85      0.53      0.60       109\n",
      "\n",
      "         Confusion Matrix:\n"
     ]
    },
    {
     "data": {
      "text/plain": [
       "<Figure size 600x500 with 2 Axes>"
      ],
      "image/png": "[encoded data removed]"
     },
     "metadata": {},
     "output_type": "display_data"
    },
    {
     "name": "stdout",
     "output_type": "stream",
     "text": [
      "\n",
      "\n",
      "\n",
      "     Model:  Model A\n",
      "         Classification Report:\n",
      "              precision    recall  f1-score   support\n",
      "\n",
      "           0       0.33      0.53      0.41        15\n",
      "           1       0.92      0.83      0.87        94\n",
      "\n",
      "    accuracy                           0.79       109\n",
      "   macro avg       0.63      0.68      0.64       109\n",
      "weighted avg       0.84      0.79      0.81       109\n",
      "\n",
      "         Confusion Matrix:\n"
     ]
    },
    {
     "data": {
      "text/plain": [
       "<Figure size 600x500 with 2 Axes>"
      ],
      "image/png": "[encoded data removed]"
     },
     "metadata": {},
     "output_type": "display_data"
    },
    {
     "name": "stdout",
     "output_type": "stream",
     "text": [
      "\n",
      "\n",
      "\n"
     ]
    }
   ],
   "execution_count": 136
  },
  {
   "metadata": {},
   "cell_type": "code",
   "outputs": [],
   "execution_count": null,
   "source": "",
   "id": "808abdb07f9b7920"
  }
 ],
 "metadata": {
  "kernelspec": {
   "display_name": "Python 3",
   "language": "python",
   "name": "python3"
  },
  "language_info": {
   "codemirror_mode": {
    "name": "ipython",
    "version": 2
   },
   "file_extension": ".py",
   "mimetype": "text/x-python",
   "name": "python",
   "nbconvert_exporter": "python",
   "pygments_lexer": "ipython2",
   "version": "2.7.6"
  }
 },
 "nbformat": 4,
 "nbformat_minor": 5
}
